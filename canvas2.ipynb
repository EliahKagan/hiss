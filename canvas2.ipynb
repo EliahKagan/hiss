{
 "cells": [
  {
   "cell_type": "code",
   "execution_count": 1,
   "metadata": {},
   "outputs": [
    {
     "data": {
      "application/vnd.jupyter.widget-view+json": {
       "model_id": "29dc7cbd81124a19a2065681757a9c1d",
       "version_major": 2,
       "version_minor": 0
      },
      "text/plain": [
       "VBox(children=(HBox(children=(ColorPicker(value='black', description='Pick a color'), Button(description='Clea…"
      ]
     },
     "execution_count": 1,
     "metadata": {},
     "output_type": "execute_result"
    }
   ],
   "source": [
    "import ipycanvas\n",
    "import ipywidgets\n",
    "\n",
    "width = 800\n",
    "height = 600\n",
    "border = 2\n",
    "\n",
    "canvas = ipycanvas.Canvas(width=width, height=height)\n",
    "canvas.layout.width = f'{width}px'\n",
    "canvas.layout.height = f'{height}px'\n",
    "\n",
    "color_picker = ipywidgets.ColorPicker(\n",
    "    concise=False,\n",
    "    description='Pick a color',\n",
    "    value='black',\n",
    ")\n",
    "\n",
    "clear_button = ipywidgets.Button(description='Clear')\n",
    "\n",
    "def clear_canvas(_button):\n",
    "    canvas.clear()\n",
    "\n",
    "old_location = None\n",
    "\n",
    "def handle_mouse_down(x, y):\n",
    "    global old_location\n",
    "    old_location = (x, y)\n",
    "\n",
    "def handle_mouse_move(x, y):\n",
    "    global old_location\n",
    "\n",
    "    if old_location is None:\n",
    "        return\n",
    "\n",
    "    with ipycanvas.hold_canvas():\n",
    "        canvas.stroke_style = color_picker.value\n",
    "        canvas.begin_path()\n",
    "        canvas.move_to(*old_location)\n",
    "        canvas.line_to(x, y)\n",
    "        canvas.stroke()\n",
    "        old_location = (x, y)\n",
    "\n",
    "def handle_mouse_up(x, y):\n",
    "    global old_location\n",
    "    old_location = None\n",
    "\n",
    "clear_button.on_click(clear_canvas)\n",
    "canvas.on_mouse_down(handle_mouse_down)\n",
    "canvas.on_mouse_move(handle_mouse_move)\n",
    "canvas.on_mouse_up(handle_mouse_up)\n",
    "\n",
    "top_box = ipywidgets.HBox([color_picker, clear_button])\n",
    "container = ipywidgets.VBox([top_box, canvas])\n",
    "container.layout.border = f'{border}px solid gray'\n",
    "container.layout.width = f'{width + border * 2}px'\n",
    "container"
   ]
  },
  {
   "cell_type": "code",
   "execution_count": null,
   "metadata": {},
   "outputs": [],
   "source": []
  }
 ],
 "metadata": {
  "kernelspec": {
   "display_name": ".venv",
   "language": "python",
   "name": "python3"
  },
  "language_info": {
   "codemirror_mode": {
    "name": "ipython",
    "version": 3
   },
   "file_extension": ".py",
   "mimetype": "text/x-python",
   "name": "python",
   "nbconvert_exporter": "python",
   "pygments_lexer": "ipython3",
   "version": "3.12.0"
  }
 },
 "nbformat": 4,
 "nbformat_minor": 2
}
